{
 "cells": [
  {
   "cell_type": "markdown",
   "id": "6aee6996",
   "metadata": {},
   "source": [
    "### 규제\n",
    "* 학습이 과대적합도는 것을 방지하고자 하는 알고리즘\n",
    "* 라쏘(Lasso)\n",
    "    - L1규제를 추가한 모형\n",
    "    - 영향력이 크지 않은 회귀계수 값을 0으로 만드는 특성이 있음\n",
    "        * 회귀계수 : 독립변수의 값이 변화함에 따라 종속변수에 미치는 영향력 크기\n",
    "    - alpha를 이용하여 가중치 제어. alpha값에 따라 과적합될 우려가 있음\n",
    "    - 영향력이 작은 회귀계수를 0으로 만듦으로써 모델에서 가장 중요한 특성이 무엇인지 알 수 있음\n",
    "* 릿지(Ridge)\n",
    "    - L2규제를 추가한 모형\n",
    "    - 계수값을 0이 아닌 작게 만드는 특성이 있음\n",
    "    - alpha를 이용하여 가중치 제어. alpha값에 따라 과적합될 우려가 있음\n",
    "* 엘라스틱넷(ElasticNet)\n",
    "    - L1, L2를 함께 결합한 모형\n",
    "    - 피처가 많은 데이터세트에 적용\n",
    "    - L1 규제로 feature의 수를 줄이고 L2규제로 계수값의 크기를 조정\n",
    "    - 파라미터\n",
    "        * alpha : L1규제의 alpha(a) + L2규제의 alpha(b). L1과 L2의 alpha를 합쳐 놓은 것\n",
    "        * l1_ratio = 0 : 0에 가까워 질수록 L2규제와 동일\n",
    "        * l1_ratio = 1 : 1에 가까워 질수록 L1규제와 동일\n",
    "        * 0 < l1_ratio < 1 : L1과 L2규제를 적절히 적용\n",
    "* 계수 : 계산해서 얻은 값"
   ]
  },
  {
   "cell_type": "code",
   "execution_count": 1,
   "id": "ed04b572",
   "metadata": {},
   "outputs": [],
   "source": [
    "import pandas as pd\n",
    "import numpy as np\n",
    "\n",
    "import warnings\n",
    "warnings.filterwarnings(\"ignore\")"
   ]
  },
  {
   "cell_type": "code",
   "execution_count": 5,
   "id": "d6e34ad5",
   "metadata": {},
   "outputs": [
    {
     "data": {
      "text/html": [
       "<div>\n",
       "<style scoped>\n",
       "    .dataframe tbody tr th:only-of-type {\n",
       "        vertical-align: middle;\n",
       "    }\n",
       "\n",
       "    .dataframe tbody tr th {\n",
       "        vertical-align: top;\n",
       "    }\n",
       "\n",
       "    .dataframe thead th {\n",
       "        text-align: right;\n",
       "    }\n",
       "</style>\n",
       "<table border=\"1\" class=\"dataframe\">\n",
       "  <thead>\n",
       "    <tr style=\"text-align: right;\">\n",
       "      <th></th>\n",
       "      <th>CRIM</th>\n",
       "      <th>ZN</th>\n",
       "      <th>INDUS</th>\n",
       "      <th>CHAS</th>\n",
       "      <th>NOX</th>\n",
       "      <th>RM</th>\n",
       "      <th>AGE</th>\n",
       "      <th>DIS</th>\n",
       "      <th>RAD</th>\n",
       "      <th>TAX</th>\n",
       "      <th>PTRATIO</th>\n",
       "      <th>B</th>\n",
       "      <th>LSTAT</th>\n",
       "      <th>PRICE</th>\n",
       "    </tr>\n",
       "  </thead>\n",
       "  <tbody>\n",
       "    <tr>\n",
       "      <th>0</th>\n",
       "      <td>0.00632</td>\n",
       "      <td>18.0</td>\n",
       "      <td>2.31</td>\n",
       "      <td>0.0</td>\n",
       "      <td>0.538</td>\n",
       "      <td>6.575</td>\n",
       "      <td>65.2</td>\n",
       "      <td>4.0900</td>\n",
       "      <td>1.0</td>\n",
       "      <td>296.0</td>\n",
       "      <td>15.3</td>\n",
       "      <td>396.90</td>\n",
       "      <td>4.98</td>\n",
       "      <td>24.0</td>\n",
       "    </tr>\n",
       "    <tr>\n",
       "      <th>1</th>\n",
       "      <td>0.02731</td>\n",
       "      <td>0.0</td>\n",
       "      <td>7.07</td>\n",
       "      <td>0.0</td>\n",
       "      <td>0.469</td>\n",
       "      <td>6.421</td>\n",
       "      <td>78.9</td>\n",
       "      <td>4.9671</td>\n",
       "      <td>2.0</td>\n",
       "      <td>242.0</td>\n",
       "      <td>17.8</td>\n",
       "      <td>396.90</td>\n",
       "      <td>9.14</td>\n",
       "      <td>21.6</td>\n",
       "    </tr>\n",
       "    <tr>\n",
       "      <th>2</th>\n",
       "      <td>0.02729</td>\n",
       "      <td>0.0</td>\n",
       "      <td>7.07</td>\n",
       "      <td>0.0</td>\n",
       "      <td>0.469</td>\n",
       "      <td>7.185</td>\n",
       "      <td>61.1</td>\n",
       "      <td>4.9671</td>\n",
       "      <td>2.0</td>\n",
       "      <td>242.0</td>\n",
       "      <td>17.8</td>\n",
       "      <td>392.83</td>\n",
       "      <td>4.03</td>\n",
       "      <td>34.7</td>\n",
       "    </tr>\n",
       "    <tr>\n",
       "      <th>3</th>\n",
       "      <td>0.03237</td>\n",
       "      <td>0.0</td>\n",
       "      <td>2.18</td>\n",
       "      <td>0.0</td>\n",
       "      <td>0.458</td>\n",
       "      <td>6.998</td>\n",
       "      <td>45.8</td>\n",
       "      <td>6.0622</td>\n",
       "      <td>3.0</td>\n",
       "      <td>222.0</td>\n",
       "      <td>18.7</td>\n",
       "      <td>394.63</td>\n",
       "      <td>2.94</td>\n",
       "      <td>33.4</td>\n",
       "    </tr>\n",
       "    <tr>\n",
       "      <th>4</th>\n",
       "      <td>0.06905</td>\n",
       "      <td>0.0</td>\n",
       "      <td>2.18</td>\n",
       "      <td>0.0</td>\n",
       "      <td>0.458</td>\n",
       "      <td>7.147</td>\n",
       "      <td>54.2</td>\n",
       "      <td>6.0622</td>\n",
       "      <td>3.0</td>\n",
       "      <td>222.0</td>\n",
       "      <td>18.7</td>\n",
       "      <td>396.90</td>\n",
       "      <td>5.33</td>\n",
       "      <td>36.2</td>\n",
       "    </tr>\n",
       "  </tbody>\n",
       "</table>\n",
       "</div>"
      ],
      "text/plain": [
       "      CRIM    ZN  INDUS  CHAS    NOX     RM   AGE     DIS  RAD    TAX  \\\n",
       "0  0.00632  18.0   2.31   0.0  0.538  6.575  65.2  4.0900  1.0  296.0   \n",
       "1  0.02731   0.0   7.07   0.0  0.469  6.421  78.9  4.9671  2.0  242.0   \n",
       "2  0.02729   0.0   7.07   0.0  0.469  7.185  61.1  4.9671  2.0  242.0   \n",
       "3  0.03237   0.0   2.18   0.0  0.458  6.998  45.8  6.0622  3.0  222.0   \n",
       "4  0.06905   0.0   2.18   0.0  0.458  7.147  54.2  6.0622  3.0  222.0   \n",
       "\n",
       "   PTRATIO       B  LSTAT  PRICE  \n",
       "0     15.3  396.90   4.98   24.0  \n",
       "1     17.8  396.90   9.14   21.6  \n",
       "2     17.8  392.83   4.03   34.7  \n",
       "3     18.7  394.63   2.94   33.4  \n",
       "4     18.7  396.90   5.33   36.2  "
      ]
     },
     "execution_count": 5,
     "metadata": {},
     "output_type": "execute_result"
    }
   ],
   "source": [
    "df = pd.read_csv('data/boston.csv')\n",
    "df.head()"
   ]
  },
  {
   "cell_type": "code",
   "execution_count": 6,
   "id": "0b19da4e",
   "metadata": {},
   "outputs": [
    {
     "data": {
      "text/plain": [
       "Index(['CRIM', 'ZN', 'INDUS', 'CHAS', 'NOX', 'RM', 'AGE', 'DIS', 'RAD', 'TAX',\n",
       "       'PTRATIO', 'B', 'LSTAT', 'PRICE'],\n",
       "      dtype='object')"
      ]
     },
     "execution_count": 6,
     "metadata": {},
     "output_type": "execute_result"
    }
   ],
   "source": [
    "df.columns"
   ]
  },
  {
   "cell_type": "code",
   "execution_count": 7,
   "id": "a0cb88fa",
   "metadata": {},
   "outputs": [],
   "source": [
    "f = ['CRIM', 'ZN', 'INDUS', 'CHAS', 'NOX', 'RM', 'AGE', 'DIS', 'RAD', 'TAX',\n",
    "       'PTRATIO', 'B', 'LSTAT']\n",
    "label = 'PRICE'\n",
    "X, y = df[f], df[label]"
   ]
  },
  {
   "cell_type": "code",
   "execution_count": 8,
   "id": "96208ecf",
   "metadata": {},
   "outputs": [],
   "source": [
    "from sklearn.model_selection import train_test_split\n",
    "\n",
    "X_train, X_test, y_train, y_test = train_test_split(X, y, test_size=0.3)"
   ]
  },
  {
   "cell_type": "code",
   "execution_count": 9,
   "id": "c21e8fe5",
   "metadata": {},
   "outputs": [
    {
     "name": "stdout",
     "output_type": "stream",
     "text": [
      "score :  0.7336186464695609 mse :  23.70890917778461\n",
      "score :  0.7045234961897899 mse :  21.788116131885268\n"
     ]
    }
   ],
   "source": [
    "from sklearn.metrics import mean_squared_error\n",
    "from sklearn.linear_model import Lasso\n",
    "# alpha : 규제 강도\n",
    "# 수치가 높을수록 강한 강도이다\n",
    "# 강도가 높다 : 영향력이 높은것들도 0으로 만듦\n",
    "lasso = Lasso( alpha = 0.07 )\n",
    "lasso.fit( X_train, y_train )\n",
    "\n",
    "train_pred = lasso.predict( X_train )\n",
    "test_pred = lasso.predict( X_test )\n",
    "\n",
    "print(\"score : \", lasso.score(X_train, y_train) ,\n",
    "                \"mse : \", mean_squared_error(train_pred, y_train))\n",
    "print(\"score : \", lasso.score(X_test, y_test) ,\n",
    "                \"mse : \", mean_squared_error(test_pred, y_test))"
   ]
  },
  {
   "cell_type": "code",
   "execution_count": 10,
   "id": "0ff9dbff",
   "metadata": {},
   "outputs": [
    {
     "name": "stdout",
     "output_type": "stream",
     "text": [
      "alpha :  0.07\n",
      "score :  0.7336186464695609 mse :  23.70890917778461\n",
      "score :  0.7045234961897899 mse :  21.788116131885268\n",
      "--------------------------------------------------\n",
      "alpha :  0.1\n",
      "score :  0.7325349938898179 mse :  23.805358198156686\n",
      "score :  0.7037932949950232 mse :  21.841960374070556\n",
      "--------------------------------------------------\n",
      "alpha :  0.5\n",
      "score :  0.7196182068566637 mse :  24.95499921686577\n",
      "score :  0.6901498661589456 mse :  22.848011982520976\n",
      "--------------------------------------------------\n",
      "alpha :  1.3\n",
      "score :  0.6628142193807436 mse :  30.01076067371531\n",
      "score :  0.6175787624340858 mse :  28.19932626770679\n",
      "--------------------------------------------------\n",
      "alpha :  2\n",
      "score :  0.6354173075418571 mse :  32.44918545807511\n",
      "score :  0.5821755592810526 mse :  30.809919975809137\n",
      "--------------------------------------------------\n"
     ]
    }
   ],
   "source": [
    "alphas = [0.07, 0.1, 0.5, 1.3, 2]\n",
    "\n",
    "for a in alphas:\n",
    "    lasso = Lasso( alpha = a )\n",
    "    lasso.fit( X_train, y_train )\n",
    "\n",
    "    train_pred = lasso.predict( X_train )\n",
    "    test_pred = lasso.predict( X_test )\n",
    "\n",
    "    print(\"alpha : \", a)\n",
    "    print(\"score : \", lasso.score(X_train, y_train) ,\n",
    "                    \"mse : \", mean_squared_error(train_pred, y_train))\n",
    "    print(\"score : \", lasso.score(X_test, y_test) ,\n",
    "                    \"mse : \", mean_squared_error(test_pred, y_test))\n",
    "    print(\"-\" * 50)"
   ]
  },
  {
   "cell_type": "code",
   "execution_count": 11,
   "id": "4dd00fd9",
   "metadata": {},
   "outputs": [
    {
     "name": "stdout",
     "output_type": "stream",
     "text": [
      "최적의 하이퍼 파라미터 :  {'alpha': 0.5}\n",
      "train :  0.7196182068566637\n",
      "test :  0.6901498661589456\n"
     ]
    }
   ],
   "source": [
    "from sklearn.model_selection import GridSearchCV\n",
    "\n",
    "params = {\"alpha\" : [0.07, 0.1, 0.5, 1.3, 2] }\n",
    "\n",
    "lasso = Lasso()\n",
    "\n",
    "grid_cv = GridSearchCV(lasso, param_grid=params, cv=5)\n",
    "grid_cv.fit(X_train, y_train)\n",
    "\n",
    "print(\"최적의 하이퍼 파라미터 : \", grid_cv.best_params_)\n",
    "print(\"train : \", grid_cv.score(X_train, y_train))\n",
    "print(\"test : \", grid_cv.score(X_test, y_test))"
   ]
  },
  {
   "cell_type": "code",
   "execution_count": 12,
   "id": "90567a9b",
   "metadata": {},
   "outputs": [
    {
     "name": "stdout",
     "output_type": "stream",
     "text": [
      "Index(['CRIM', 'ZN', 'INDUS', 'CHAS', 'NOX', 'RM', 'AGE', 'DIS', 'RAD', 'TAX',\n",
      "       'PTRATIO', 'B', 'LSTAT'],\n",
      "      dtype='object')\n"
     ]
    },
    {
     "data": {
      "text/plain": [
       "array([-0.        ,  0.0437953 , -0.        ,  0.        , -0.        ,\n",
       "        0.        ,  0.04711327, -0.        ,  0.07997108, -0.0082593 ,\n",
       "       -0.18599016,  0.00737554, -0.84348348])"
      ]
     },
     "execution_count": 12,
     "metadata": {},
     "output_type": "execute_result"
    }
   ],
   "source": [
    "lasso = Lasso(alpha=3)\n",
    "lasso.fit( X_train, y_train )\n",
    "print(X_train.columns )\n",
    "lasso.coef_"
   ]
  },
  {
   "cell_type": "code",
   "execution_count": 13,
   "id": "9a0938e1",
   "metadata": {},
   "outputs": [
    {
     "data": {
      "text/plain": [
       "[0.07, 0.1, 0.5, 1.3, 2]"
      ]
     },
     "execution_count": 13,
     "metadata": {},
     "output_type": "execute_result"
    }
   ],
   "source": [
    "alphas"
   ]
  },
  {
   "cell_type": "code",
   "execution_count": 14,
   "id": "677c07c6",
   "metadata": {},
   "outputs": [
    {
     "data": {
      "text/html": [
       "<div>\n",
       "<style scoped>\n",
       "    .dataframe tbody tr th:only-of-type {\n",
       "        vertical-align: middle;\n",
       "    }\n",
       "\n",
       "    .dataframe tbody tr th {\n",
       "        vertical-align: top;\n",
       "    }\n",
       "\n",
       "    .dataframe thead th {\n",
       "        text-align: right;\n",
       "    }\n",
       "</style>\n",
       "<table border=\"1\" class=\"dataframe\">\n",
       "  <thead>\n",
       "    <tr style=\"text-align: right;\">\n",
       "      <th></th>\n",
       "      <th>alpha : 0.07</th>\n",
       "      <th>alpha : 0.1</th>\n",
       "      <th>alpha : 0.5</th>\n",
       "      <th>alpha : 1.3</th>\n",
       "      <th>alpha : 2</th>\n",
       "    </tr>\n",
       "  </thead>\n",
       "  <tbody>\n",
       "    <tr>\n",
       "      <th>CRIM</th>\n",
       "      <td>-0.107781</td>\n",
       "      <td>-0.106979</td>\n",
       "      <td>-0.088324</td>\n",
       "      <td>-0.046905</td>\n",
       "      <td>-0.016572</td>\n",
       "    </tr>\n",
       "    <tr>\n",
       "      <th>ZN</th>\n",
       "      <td>0.049919</td>\n",
       "      <td>0.049936</td>\n",
       "      <td>0.049913</td>\n",
       "      <td>0.050435</td>\n",
       "      <td>0.039768</td>\n",
       "    </tr>\n",
       "    <tr>\n",
       "      <th>INDUS</th>\n",
       "      <td>-0.003465</td>\n",
       "      <td>-0.000000</td>\n",
       "      <td>0.000000</td>\n",
       "      <td>0.000000</td>\n",
       "      <td>0.000000</td>\n",
       "    </tr>\n",
       "    <tr>\n",
       "      <th>CHAS</th>\n",
       "      <td>1.589894</td>\n",
       "      <td>1.112370</td>\n",
       "      <td>0.000000</td>\n",
       "      <td>0.000000</td>\n",
       "      <td>0.000000</td>\n",
       "    </tr>\n",
       "    <tr>\n",
       "      <th>NOX</th>\n",
       "      <td>-0.000000</td>\n",
       "      <td>-0.000000</td>\n",
       "      <td>-0.000000</td>\n",
       "      <td>-0.000000</td>\n",
       "      <td>-0.000000</td>\n",
       "    </tr>\n",
       "    <tr>\n",
       "      <th>RM</th>\n",
       "      <td>3.669726</td>\n",
       "      <td>3.588068</td>\n",
       "      <td>2.387918</td>\n",
       "      <td>0.000000</td>\n",
       "      <td>0.000000</td>\n",
       "    </tr>\n",
       "    <tr>\n",
       "      <th>AGE</th>\n",
       "      <td>-0.010875</td>\n",
       "      <td>-0.009105</td>\n",
       "      <td>0.006547</td>\n",
       "      <td>0.036855</td>\n",
       "      <td>0.049866</td>\n",
       "    </tr>\n",
       "    <tr>\n",
       "      <th>DIS</th>\n",
       "      <td>-1.239980</td>\n",
       "      <td>-1.222296</td>\n",
       "      <td>-0.993397</td>\n",
       "      <td>-0.495173</td>\n",
       "      <td>-0.031506</td>\n",
       "    </tr>\n",
       "    <tr>\n",
       "      <th>RAD</th>\n",
       "      <td>0.278164</td>\n",
       "      <td>0.281092</td>\n",
       "      <td>0.275082</td>\n",
       "      <td>0.249702</td>\n",
       "      <td>0.178452</td>\n",
       "    </tr>\n",
       "    <tr>\n",
       "      <th>TAX</th>\n",
       "      <td>-0.013689</td>\n",
       "      <td>-0.013934</td>\n",
       "      <td>-0.013989</td>\n",
       "      <td>-0.013391</td>\n",
       "      <td>-0.010669</td>\n",
       "    </tr>\n",
       "    <tr>\n",
       "      <th>PTRATIO</th>\n",
       "      <td>-0.756107</td>\n",
       "      <td>-0.760490</td>\n",
       "      <td>-0.742949</td>\n",
       "      <td>-0.674762</td>\n",
       "      <td>-0.506452</td>\n",
       "    </tr>\n",
       "    <tr>\n",
       "      <th>B</th>\n",
       "      <td>0.011557</td>\n",
       "      <td>0.011546</td>\n",
       "      <td>0.010646</td>\n",
       "      <td>0.008601</td>\n",
       "      <td>0.008103</td>\n",
       "    </tr>\n",
       "    <tr>\n",
       "      <th>LSTAT</th>\n",
       "      <td>-0.611155</td>\n",
       "      <td>-0.618587</td>\n",
       "      <td>-0.701347</td>\n",
       "      <td>-0.861053</td>\n",
       "      <td>-0.856732</td>\n",
       "    </tr>\n",
       "  </tbody>\n",
       "</table>\n",
       "</div>"
      ],
      "text/plain": [
       "         alpha : 0.07  alpha : 0.1  alpha : 0.5  alpha : 1.3  alpha : 2\n",
       "CRIM        -0.107781    -0.106979    -0.088324    -0.046905  -0.016572\n",
       "ZN           0.049919     0.049936     0.049913     0.050435   0.039768\n",
       "INDUS       -0.003465    -0.000000     0.000000     0.000000   0.000000\n",
       "CHAS         1.589894     1.112370     0.000000     0.000000   0.000000\n",
       "NOX         -0.000000    -0.000000    -0.000000    -0.000000  -0.000000\n",
       "RM           3.669726     3.588068     2.387918     0.000000   0.000000\n",
       "AGE         -0.010875    -0.009105     0.006547     0.036855   0.049866\n",
       "DIS         -1.239980    -1.222296    -0.993397    -0.495173  -0.031506\n",
       "RAD          0.278164     0.281092     0.275082     0.249702   0.178452\n",
       "TAX         -0.013689    -0.013934    -0.013989    -0.013391  -0.010669\n",
       "PTRATIO     -0.756107    -0.760490    -0.742949    -0.674762  -0.506452\n",
       "B            0.011557     0.011546     0.010646     0.008601   0.008103\n",
       "LSTAT       -0.611155    -0.618587    -0.701347    -0.861053  -0.856732"
      ]
     },
     "execution_count": 14,
     "metadata": {},
     "output_type": "execute_result"
    }
   ],
   "source": [
    "coeff_df = pd.DataFrame(index=X_train.columns)\n",
    "\n",
    "for idx, alpha in enumerate( alphas ):\n",
    "    lasso = Lasso(alpha= alpha)\n",
    "    lasso.fit(X_train, y_train)\n",
    "    col_name = \"alpha : \"+str(alpha)\n",
    "    coeff_df[col_name] = lasso.coef_\n",
    "coeff_df"
   ]
  },
  {
   "cell_type": "code",
   "execution_count": null,
   "id": "128b0397",
   "metadata": {},
   "outputs": [],
   "source": []
  },
  {
   "cell_type": "code",
   "execution_count": 15,
   "id": "49903091",
   "metadata": {},
   "outputs": [],
   "source": [
    "from sklearn.linear_model import Ridge\n",
    "\n",
    "alphas = [0.01, 0.1, 1, 10, 100]"
   ]
  },
  {
   "cell_type": "code",
   "execution_count": 16,
   "id": "eb053bb2",
   "metadata": {},
   "outputs": [
    {
     "name": "stdout",
     "output_type": "stream",
     "text": [
      "alpha :  0.01\n",
      "train :  0.7492048923564809 mse :  22.321676613425044\n",
      "train :  0.7072754687758787 mse :  21.585188665490232\n",
      "--------------------------------------------------\n",
      "alpha :  0.1\n",
      "train :  0.7490962057488142 mse :  22.331350116753484\n",
      "train :  0.7084675185411868 mse :  21.497288211861605\n",
      "--------------------------------------------------\n",
      "alpha :  1\n",
      "train :  0.7457309393960452 mse :  22.63087106016567\n",
      "train :  0.7108745419243823 mse :  21.31979692463928\n",
      "--------------------------------------------------\n",
      "alpha :  10\n",
      "train :  0.7364128200603898 mse :  23.460217567002044\n",
      "train :  0.7057894238337914 mse :  21.69476800380607\n",
      "--------------------------------------------------\n",
      "alpha :  100\n",
      "train :  0.7194602097838179 mse :  24.969061530915955\n",
      "train :  0.6866244921087381 mse :  23.107969231993486\n",
      "--------------------------------------------------\n"
     ]
    }
   ],
   "source": [
    "for alpha in alphas:\n",
    "    ridge = Ridge(alpha=alpha)\n",
    "    ridge.fit(X_train, y_train)\n",
    "    \n",
    "    train_pred = ridge.predict(X_train)\n",
    "    test_pred = ridge.predict(X_test)\n",
    "    \n",
    "    train_score = ridge.score(X_train, y_train)\n",
    "    test_score = ridge.score(X_test, y_test)\n",
    "    \n",
    "    train_mse = mean_squared_error(train_pred, y_train)\n",
    "    test_mse = mean_squared_error(test_pred, y_test)\n",
    "    \n",
    "    print(\"alpha : \", alpha)\n",
    "    print(\"train : \", train_score, \"mse : \", train_mse)\n",
    "    print(\"train : \", test_score, \"mse : \", test_mse)\n",
    "    print(\"-\" * 50)"
   ]
  },
  {
   "cell_type": "code",
   "execution_count": 17,
   "id": "175c5938",
   "metadata": {},
   "outputs": [
    {
     "data": {
      "text/plain": [
       "[0.01, 0.1, 1, 10, 100]"
      ]
     },
     "execution_count": 17,
     "metadata": {},
     "output_type": "execute_result"
    }
   ],
   "source": [
    "alphas"
   ]
  },
  {
   "cell_type": "code",
   "execution_count": 18,
   "id": "08bedb02",
   "metadata": {},
   "outputs": [
    {
     "data": {
      "text/html": [
       "<div>\n",
       "<style scoped>\n",
       "    .dataframe tbody tr th:only-of-type {\n",
       "        vertical-align: middle;\n",
       "    }\n",
       "\n",
       "    .dataframe tbody tr th {\n",
       "        vertical-align: top;\n",
       "    }\n",
       "\n",
       "    .dataframe thead th {\n",
       "        text-align: right;\n",
       "    }\n",
       "</style>\n",
       "<table border=\"1\" class=\"dataframe\">\n",
       "  <thead>\n",
       "    <tr style=\"text-align: right;\">\n",
       "      <th></th>\n",
       "      <th>alpha : 0.01</th>\n",
       "      <th>alpha : 0.1</th>\n",
       "      <th>alpha : 1</th>\n",
       "      <th>alpha : 10</th>\n",
       "      <th>alpha : 100</th>\n",
       "    </tr>\n",
       "  </thead>\n",
       "  <tbody>\n",
       "    <tr>\n",
       "      <th>CRIM</th>\n",
       "      <td>-0.119371</td>\n",
       "      <td>-0.118627</td>\n",
       "      <td>-0.114791</td>\n",
       "      <td>-0.110659</td>\n",
       "      <td>-0.103788</td>\n",
       "    </tr>\n",
       "    <tr>\n",
       "      <th>ZN</th>\n",
       "      <td>0.047389</td>\n",
       "      <td>0.047583</td>\n",
       "      <td>0.048644</td>\n",
       "      <td>0.050689</td>\n",
       "      <td>0.055400</td>\n",
       "    </tr>\n",
       "    <tr>\n",
       "      <th>INDUS</th>\n",
       "      <td>0.062431</td>\n",
       "      <td>0.056318</td>\n",
       "      <td>0.024907</td>\n",
       "      <td>-0.005219</td>\n",
       "      <td>-0.004503</td>\n",
       "    </tr>\n",
       "    <tr>\n",
       "      <th>CHAS</th>\n",
       "      <td>2.976485</td>\n",
       "      <td>2.943507</td>\n",
       "      <td>2.724742</td>\n",
       "      <td>1.889245</td>\n",
       "      <td>0.529891</td>\n",
       "    </tr>\n",
       "    <tr>\n",
       "      <th>NOX</th>\n",
       "      <td>-20.663150</td>\n",
       "      <td>-19.046768</td>\n",
       "      <td>-10.682159</td>\n",
       "      <td>-1.969617</td>\n",
       "      <td>-0.203893</td>\n",
       "    </tr>\n",
       "    <tr>\n",
       "      <th>RM</th>\n",
       "      <td>3.653984</td>\n",
       "      <td>3.666812</td>\n",
       "      <td>3.717690</td>\n",
       "      <td>3.503934</td>\n",
       "      <td>1.972937</td>\n",
       "    </tr>\n",
       "    <tr>\n",
       "      <th>AGE</th>\n",
       "      <td>0.001758</td>\n",
       "      <td>0.000494</td>\n",
       "      <td>-0.005861</td>\n",
       "      <td>-0.009432</td>\n",
       "      <td>0.007144</td>\n",
       "    </tr>\n",
       "    <tr>\n",
       "      <th>DIS</th>\n",
       "      <td>-1.617940</td>\n",
       "      <td>-1.591876</td>\n",
       "      <td>-1.456501</td>\n",
       "      <td>-1.304163</td>\n",
       "      <td>-1.115921</td>\n",
       "    </tr>\n",
       "    <tr>\n",
       "      <th>RAD</th>\n",
       "      <td>0.322895</td>\n",
       "      <td>0.318895</td>\n",
       "      <td>0.298895</td>\n",
       "      <td>0.288260</td>\n",
       "      <td>0.322832</td>\n",
       "    </tr>\n",
       "    <tr>\n",
       "      <th>TAX</th>\n",
       "      <td>-0.011698</td>\n",
       "      <td>-0.011805</td>\n",
       "      <td>-0.012396</td>\n",
       "      <td>-0.013533</td>\n",
       "      <td>-0.015522</td>\n",
       "    </tr>\n",
       "    <tr>\n",
       "      <th>PTRATIO</th>\n",
       "      <td>-0.947776</td>\n",
       "      <td>-0.932225</td>\n",
       "      <td>-0.853127</td>\n",
       "      <td>-0.790541</td>\n",
       "      <td>-0.829128</td>\n",
       "    </tr>\n",
       "    <tr>\n",
       "      <th>B</th>\n",
       "      <td>0.009640</td>\n",
       "      <td>0.009790</td>\n",
       "      <td>0.010565</td>\n",
       "      <td>0.011267</td>\n",
       "      <td>0.010501</td>\n",
       "    </tr>\n",
       "    <tr>\n",
       "      <th>LSTAT</th>\n",
       "      <td>-0.569946</td>\n",
       "      <td>-0.572040</td>\n",
       "      <td>-0.584106</td>\n",
       "      <td>-0.617052</td>\n",
       "      <td>-0.728891</td>\n",
       "    </tr>\n",
       "  </tbody>\n",
       "</table>\n",
       "</div>"
      ],
      "text/plain": [
       "         alpha : 0.01  alpha : 0.1  alpha : 1  alpha : 10  alpha : 100\n",
       "CRIM        -0.119371    -0.118627  -0.114791   -0.110659    -0.103788\n",
       "ZN           0.047389     0.047583   0.048644    0.050689     0.055400\n",
       "INDUS        0.062431     0.056318   0.024907   -0.005219    -0.004503\n",
       "CHAS         2.976485     2.943507   2.724742    1.889245     0.529891\n",
       "NOX        -20.663150   -19.046768 -10.682159   -1.969617    -0.203893\n",
       "RM           3.653984     3.666812   3.717690    3.503934     1.972937\n",
       "AGE          0.001758     0.000494  -0.005861   -0.009432     0.007144\n",
       "DIS         -1.617940    -1.591876  -1.456501   -1.304163    -1.115921\n",
       "RAD          0.322895     0.318895   0.298895    0.288260     0.322832\n",
       "TAX         -0.011698    -0.011805  -0.012396   -0.013533    -0.015522\n",
       "PTRATIO     -0.947776    -0.932225  -0.853127   -0.790541    -0.829128\n",
       "B            0.009640     0.009790   0.010565    0.011267     0.010501\n",
       "LSTAT       -0.569946    -0.572040  -0.584106   -0.617052    -0.728891"
      ]
     },
     "execution_count": 18,
     "metadata": {},
     "output_type": "execute_result"
    }
   ],
   "source": [
    "coeff_df = pd.DataFrame(index=X_train.columns)\n",
    "\n",
    "for alpha in alphas:\n",
    "    ridge = Ridge(alpha= alpha)\n",
    "    ridge.fit(X_train, y_train)\n",
    "    col_name = \"alpha : \"+str(alpha)\n",
    "    coeff_df[col_name] = ridge.coef_\n",
    "coeff_df"
   ]
  },
  {
   "cell_type": "code",
   "execution_count": 19,
   "id": "7f6b877e",
   "metadata": {},
   "outputs": [],
   "source": [
    "from sklearn.linear_model import ElasticNet\n",
    "\n",
    "#ㅣ1_ratios : 0에 가까울수록 L2(릿지) 규제에 가까움\n",
    "#ㅣ1_ratios : 1에 가까울수록 L1(랏소) 규제에 가까움\n",
    "\n",
    "ratios = [0.2, 0.5, 0.8] \n",
    "alphas =  [0.1, 0.7, 1.5] # 규제 강도"
   ]
  },
  {
   "cell_type": "code",
   "execution_count": 20,
   "id": "71e446ba",
   "metadata": {},
   "outputs": [
    {
     "name": "stdout",
     "output_type": "stream",
     "text": [
      "train :  0.7036000586928309\n",
      "test :  0.6686165217868851\n"
     ]
    }
   ],
   "source": [
    "el = ElasticNet(alpha=0.7, l1_ratio=0.2)\n",
    "el.fit(X_train, y_train)\n",
    "\n",
    "print(\"train : \", el.score(X_train, y_train))\n",
    "print(\"test : \", el.score(X_test, y_test))"
   ]
  },
  {
   "cell_type": "code",
   "execution_count": 21,
   "id": "4f6668fd",
   "metadata": {},
   "outputs": [
    {
     "name": "stdout",
     "output_type": "stream",
     "text": [
      "최적의 하이퍼 파라미터 :  {'alpha': 0.1, 'l1_ratio': 0.2}\n",
      "train :  0.7308936299152904\n",
      "test :  0.7002511262035458\n"
     ]
    }
   ],
   "source": [
    "params = {\n",
    "    \"alpha\" : alphas,\n",
    "    \"l1_ratio\" : ratios\n",
    "}\n",
    "\n",
    "el = ElasticNet()\n",
    "grid_cv = GridSearchCV(el, param_grid=params, cv=5)\n",
    "grid_cv.fit(X_train, y_train)\n",
    "\n",
    "print(\"최적의 하이퍼 파라미터 : \", grid_cv.best_params_)\n",
    "print(\"train : \", grid_cv.score(X_train, y_train))\n",
    "print(\"test : \", grid_cv.score(X_test, y_test))"
   ]
  },
  {
   "cell_type": "code",
   "execution_count": null,
   "id": "327df77a",
   "metadata": {},
   "outputs": [],
   "source": []
  }
 ],
 "metadata": {
  "kernelspec": {
   "display_name": "Python 3 (ipykernel)",
   "language": "python",
   "name": "python3"
  },
  "language_info": {
   "codemirror_mode": {
    "name": "ipython",
    "version": 3
   },
   "file_extension": ".py",
   "mimetype": "text/x-python",
   "name": "python",
   "nbconvert_exporter": "python",
   "pygments_lexer": "ipython3",
   "version": "3.11.4"
  }
 },
 "nbformat": 4,
 "nbformat_minor": 5
}
